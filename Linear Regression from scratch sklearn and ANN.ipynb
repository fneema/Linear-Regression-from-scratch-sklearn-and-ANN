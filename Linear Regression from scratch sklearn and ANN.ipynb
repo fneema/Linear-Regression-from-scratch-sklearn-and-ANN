{
 "cells": [
  {
   "cell_type": "markdown",
   "metadata": {},
   "source": [
    "# Linear Regression by scratch approach, sklearn library and Artificial Neural Network using Tensorflow."
   ]
  },
  {
   "cell_type": "markdown",
   "metadata": {},
   "source": [
    "In this notebook, we implemented the linear regression model from scratch. To see if it is working as expected, we decided to use sklearn library for the same model. We compared the results of these two approaches with Artificial Neural Network.\n",
    "\n",
    "As anticipated, ANN performed well."
   ]
  },
  {
   "cell_type": "code",
   "execution_count": 1,
   "metadata": {},
   "outputs": [],
   "source": [
    "#importing libraries\n",
    "import numpy as np\n",
    "import pandas as pd\n",
    "import matplotlib.pyplot as plt\n",
    "from sklearn.model_selection import train_test_split\n",
    "from sklearn.metrics import mean_squared_error\n"
   ]
  },
  {
   "cell_type": "code",
   "execution_count": 2,
   "metadata": {},
   "outputs": [],
   "source": [
    "#Loading data\n",
    "data = pd.read_csv(\"/home/aims/Documents/Kaggle Data/diabetes.csv\")\n"
   ]
  },
  {
   "cell_type": "code",
   "execution_count": 23,
   "metadata": {
    "scrolled": true
   },
   "outputs": [
    {
     "name": "stdout",
     "output_type": "stream",
     "text": [
      "shape of X:  (768, 8)\n",
      "shape of y:  (768, 1)\n"
     ]
    }
   ],
   "source": [
    "\n",
    "#Input values of features\n",
    "X = data.drop('BMI',1)\n",
    "print('shape of X: ',X.shape)\n",
    "\n",
    "#Output values of features\n",
    "y = data['BMI'].values.reshape(-1,1)\n",
    "print('shape of y: ',y.shape)\n",
    "\n",
    "#splitting data into train and test set\n",
    "x_train,x_test,y_train,y_test = train_test_split(X, y, test_size=0.2, random_state=0)\n"
   ]
  },
  {
   "cell_type": "markdown",
   "metadata": {},
   "source": [
    "# Linear regression from scratch"
   ]
  },
  {
   "cell_type": "code",
   "execution_count": 24,
   "metadata": {},
   "outputs": [],
   "source": [
    "#Define cost fuction\n",
    "#X-input values matrix, y-output value vector, parameter vector\n",
    "\n",
    "def cost_function(X,y,params):\n",
    "    #number of samples\n",
    "    no_samples = len(y)\n",
    "    \n",
    "    #Error- difference between predicted value of y and actual/observed value of value\n",
    "    error = (X@params) - y\n",
    "    \n",
    "    #formula for obtaining the cost\n",
    "    return (1/(2*no_samples))*np.sum(error**2)\n",
    "    \n",
    "    "
   ]
  },
  {
   "cell_type": "code",
   "execution_count": 25,
   "metadata": {},
   "outputs": [],
   "source": [
    "#Define gradient descent\n",
    "def gradient_descent(X, y, params, learning_rate, n_iters):\n",
    "    no_samples = len(y)\n",
    "    \n",
    "    #Track cost in each iteration\n",
    "    cost_track = np.zeros((n_iters,1))\n",
    "    \n",
    "    for i in range(n_iters):\n",
    "        #updating parameters\n",
    "        params = params - (learning_rate/no_samples)* X.T @ (X@params-y)\n",
    "        cost_track[i] = cost_function(X,y,params)\n",
    "    return (cost_track,params)"
   ]
  },
  {
   "cell_type": "code",
   "execution_count": 26,
   "metadata": {},
   "outputs": [],
   "source": [
    "#Normalizing our data/ feature scaling \n",
    "mu = np.mean(x_train,0)\n",
    "sigma = np.std(x_train,0)\n",
    "\n",
    "x_train = (x_train-mu)/sigma\n",
    "\n",
    "#Introducing bias in our input matrix\n",
    "x_train = np.hstack((np.ones((x_train.shape[0],1)),x_train))\n",
    "\n",
    "#Initialising parameters to zeros\n",
    "params = np.zeros((x_train.shape[1],1))"
   ]
  },
  {
   "cell_type": "code",
   "execution_count": 27,
   "metadata": {},
   "outputs": [
    {
     "name": "stdout",
     "output_type": "stream",
     "text": [
      "Initial cost is :  549.9019136807818\n",
      "Optimal parameters are:  [[32.20667752]\n",
      " [-0.20253948]\n",
      " [ 0.88835153]\n",
      " [ 1.41410899]\n",
      " [ 2.71927362]\n",
      " [-0.34896191]\n",
      " [ 0.20942998]\n",
      " [-0.42277112]\n",
      " [ 1.82124106]]\n",
      "Final cost is:  [22.57762383]\n"
     ]
    },
    {
     "data": {
      "image/png": "[encoded data removed]",
      "text/plain": [
       "<Figure size 432x288 with 1 Axes>"
      ]
     },
     "metadata": {
      "needs_background": "light"
     },
     "output_type": "display_data"
    }
   ],
   "source": [
    "#Training our model\n",
    "n_iters  = 5000\n",
    "\n",
    "learning_rate = 0.01\n",
    "\n",
    "initial_cost = cost_function(x_train,y_train,params)\n",
    "\n",
    "print('Initial cost is : ', initial_cost)\n",
    "\n",
    "(cost_track, optimal_parameters) = gradient_descent(x_train,y_train,params,learning_rate,n_iters)\n",
    "\n",
    "print('Optimal parameters are: ', optimal_parameters)\n",
    "\n",
    "print('Final cost is: ', cost_track[-1])\n",
    "\n",
    "#Plotting a graph of convergence of cost fuction\n",
    "\n",
    "plt.plot(range(len(cost_track)), cost_track, 'b')\n",
    "\n",
    "plt.title(\"Convergence Graph of Cost Function\")\n",
    "plt.xlabel(\"Number of Iterations\")\n",
    "plt.ylabel(\"Cost\")\n",
    "plt.show()"
   ]
  },
  {
   "cell_type": "code",
   "execution_count": 28,
   "metadata": {},
   "outputs": [],
   "source": [
    "#Normalising our test set\n",
    "x_test = (x_test-mu)/sigma\n",
    "\n",
    "#Introducing bias to test set\n",
    "x_test = np.hstack((np.ones((x_test.shape[0],1)),x_test))\n",
    "\n",
    "#predicting the y output\n",
    "y_pred = x_test@optimal_parameters\n"
   ]
  },
  {
   "cell_type": "code",
   "execution_count": 29,
   "metadata": {},
   "outputs": [
    {
     "data": {
      "text/plain": [
       "6.861001413749793"
      ]
     },
     "execution_count": 29,
     "metadata": {},
     "output_type": "execute_result"
    }
   ],
   "source": [
    "#Evaluating our model using RMSE\n",
    "rms = np.sqrt(mean_squared_error(y_pred, y_test))\n",
    "rms"
   ]
  },
  {
   "cell_type": "code",
   "execution_count": null,
   "metadata": {},
   "outputs": [],
   "source": []
  },
  {
   "cell_type": "markdown",
   "metadata": {},
   "source": [
    "# Linear regression using sklearn"
   ]
  },
  {
   "cell_type": "code",
   "execution_count": 19,
   "metadata": {},
   "outputs": [],
   "source": [
    "#import Linear regression module\n",
    "from sklearn.linear_model import LinearRegression"
   ]
  },
  {
   "cell_type": "code",
   "execution_count": 22,
   "metadata": {},
   "outputs": [
    {
     "data": {
      "text/plain": [
       "LinearRegression(copy_X=True, fit_intercept=True, n_jobs=None,\n",
       "         normalize=False)"
      ]
     },
     "execution_count": 22,
     "metadata": {},
     "output_type": "execute_result"
    }
   ],
   "source": [
    "#Calling the linear regression function from sklearn\n",
    "model = LinearRegression()\n",
    "\n",
    "#training our model\n",
    "model.fit(x_train,y_train)\n",
    "\n",
    "print('The intercept of the model is: ', model.intercept_)\n",
    "\n",
    "print('The coeffeicient of the model are: ',model.coef_)\n",
    "\n"
   ]
  },
  {
   "cell_type": "code",
   "execution_count": 125,
   "metadata": {},
   "outputs": [],
   "source": [
    "#predicting output value of y\n",
    "y_pred = model.predict(x_test)\n"
   ]
  },
  {
   "cell_type": "code",
   "execution_count": 124,
   "metadata": {},
   "outputs": [
    {
     "data": {
      "text/plain": [
       "6.861001413931367"
      ]
     },
     "execution_count": 124,
     "metadata": {},
     "output_type": "execute_result"
    }
   ],
   "source": [
    "#Evaluating our model using RMSE\n",
    "rms = np.sqrt(mean_squared_error(y_pred, y_test))\n",
    "rms"
   ]
  },
  {
   "cell_type": "code",
   "execution_count": null,
   "metadata": {},
   "outputs": [],
   "source": []
  },
  {
   "cell_type": "markdown",
   "metadata": {},
   "source": [
    "# Linear regression using ANN by tensorflow"
   ]
  },
  {
   "cell_type": "code",
   "execution_count": 3,
   "metadata": {},
   "outputs": [
    {
     "name": "stdout",
     "output_type": "stream",
     "text": [
      "shape of X:  (768, 8)\n",
      "shape of y:  (768, 1)\n"
     ]
    }
   ],
   "source": [
    "#Input values of features\n",
    "X = data.drop('BMI',1)\n",
    "print('shape of X: ',X.shape)\n",
    "\n",
    "#Output values of features\n",
    "y = data['BMI'].values.reshape(-1,1)\n",
    "print('shape of y: ',y.shape)\n",
    "\n",
    "\n"
   ]
  },
  {
   "cell_type": "code",
   "execution_count": 4,
   "metadata": {},
   "outputs": [
    {
     "name": "stderr",
     "output_type": "stream",
     "text": [
      "/usr/lib/python3/dist-packages/sklearn/preprocessing/data.py:323: DataConversionWarning: Data with input dtype int64, float64 were all converted to float64 by MinMaxScaler.\n",
      "  return self.partial_fit(X, y)\n"
     ]
    }
   ],
   "source": [
    "#Performing feature scaling\n",
    "from sklearn.preprocessing import MinMaxScaler\n",
    "\n",
    "scaler_x = MinMaxScaler()\n",
    "X_scaled = scaler_x.fit_transform(X)\n",
    "\n",
    "scaler_y = MinMaxScaler()\n",
    "y_scaled = scaler_y.fit_transform(y)\n"
   ]
  },
  {
   "cell_type": "code",
   "execution_count": 17,
   "metadata": {},
   "outputs": [],
   "source": [
    "#Checking the maximum values of the input features\n",
    "print('Maximum value of each feature',scaler_x.data_max_)\n",
    "#Checking the minimum values of the input features\n",
    "print('Minimum value of each feature', scaler_x.data_min_)\n",
    "\n",
    "#Checking the maximum values of the output\n",
    "print('Maximum value of output',scaler_y.data_max_)\n",
    "#Checking the minimum values of the output\n",
    "print('Minimum value of output', scaler_y.data_min_)\n"
   ]
  },
  {
   "cell_type": "code",
   "execution_count": 16,
   "metadata": {},
   "outputs": [],
   "source": [
    "#Checking to ensure that the values of the scaled features and output are between 0 and 1.\n",
    "print(X_scaled)\n",
    "print(y_scaled)"
   ]
  },
  {
   "cell_type": "markdown",
   "metadata": {},
   "source": [
    "**Training the model**"
   ]
  },
  {
   "cell_type": "code",
   "execution_count": 8,
   "metadata": {},
   "outputs": [],
   "source": [
    "from sklearn.model_selection import train_test_split\n",
    "X_train, X_test, y_train, y_test = train_test_split(X_scaled, y_scaled, test_size = 0.2, random_state=0)"
   ]
  },
  {
   "cell_type": "code",
   "execution_count": 9,
   "metadata": {},
   "outputs": [
    {
     "name": "stdout",
     "output_type": "stream",
     "text": [
      "Model: \"sequential_1\"\n",
      "_________________________________________________________________\n",
      "Layer (type)                 Output Shape              Param #   \n",
      "=================================================================\n",
      "dense_1 (Dense)              (None, 40)                360       \n",
      "_________________________________________________________________\n",
      "dense_2 (Dense)              (None, 40)                1640      \n",
      "_________________________________________________________________\n",
      "dense_3 (Dense)              (None, 1)                 41        \n",
      "=================================================================\n",
      "Total params: 2,041\n",
      "Trainable params: 2,041\n",
      "Non-trainable params: 0\n",
      "_________________________________________________________________\n"
     ]
    },
    {
     "name": "stderr",
     "output_type": "stream",
     "text": [
      "Using TensorFlow backend.\n"
     ]
    }
   ],
   "source": [
    "#tensflow used to build ANN\n",
    "#We can take keras as a function\n",
    "import tensorflow.keras\n",
    "\n",
    "#building model in a sequential form\n",
    "from keras.models import Sequential\n",
    "\n",
    "#for fully connceted ANN(dense)\n",
    "from keras.layers import Dense\n",
    "\n",
    "model = Sequential()\n",
    "#Add first layer, 45=no of neurons, 5=inputs\n",
    "model.add(Dense(40, input_dim=8, activation='relu'))\n",
    "#adding hidden layer\n",
    "model.add(Dense(40, activation='relu'))\n",
    "#adding output layer, 1=output, act=linear becoz we predict continous values\n",
    "model.add(Dense(1, activation='linear'))\n",
    "#Generate table showing description of your ANN\n",
    "model.summary()\n"
   ]
  },
  {
   "cell_type": "code",
   "execution_count": 10,
   "metadata": {},
   "outputs": [
    {
     "name": "stdout",
     "output_type": "stream",
     "text": [
      "WARNING:tensorflow:From /usr/local/lib/python3.7/dist-packages/keras/backend/tensorflow_backend.py:422: The name tf.global_variables is deprecated. Please use tf.compat.v1.global_variables instead.\n",
      "\n",
      "Train on 491 samples, validate on 123 samples\n",
      "Epoch 1/10\n",
      "491/491 [==============================] - 0s 214us/step - loss: 0.1813 - val_loss: 0.0639\n",
      "Epoch 2/10\n",
      "491/491 [==============================] - 0s 15us/step - loss: 0.0355 - val_loss: 0.0220\n",
      "Epoch 3/10\n",
      "491/491 [==============================] - 0s 26us/step - loss: 0.0228 - val_loss: 0.0253\n",
      "Epoch 4/10\n",
      "491/491 [==============================] - 0s 24us/step - loss: 0.0187 - val_loss: 0.0172\n",
      "Epoch 5/10\n",
      "491/491 [==============================] - 0s 19us/step - loss: 0.0152 - val_loss: 0.0161\n",
      "Epoch 6/10\n",
      "491/491 [==============================] - 0s 26us/step - loss: 0.0143 - val_loss: 0.0145\n",
      "Epoch 7/10\n",
      "491/491 [==============================] - 0s 20us/step - loss: 0.0130 - val_loss: 0.0139\n",
      "Epoch 8/10\n",
      "491/491 [==============================] - 0s 18us/step - loss: 0.0124 - val_loss: 0.0132\n",
      "Epoch 9/10\n",
      "491/491 [==============================] - 0s 37us/step - loss: 0.0117 - val_loss: 0.0126\n",
      "Epoch 10/10\n",
      "491/491 [==============================] - 0s 30us/step - loss: 0.0113 - val_loss: 0.0121\n"
     ]
    }
   ],
   "source": [
    "model.compile(optimizer='adam', loss='mean_squared_error')\n",
    "epochs_hist = model.fit(X_train, y_train, epochs=10, batch_size=50,  verbose=1, validation_split=0.2)\n",
    "\n"
   ]
  },
  {
   "cell_type": "markdown",
   "metadata": {},
   "source": [
    "**Evaluating the model**"
   ]
  },
  {
   "cell_type": "code",
   "execution_count": 12,
   "metadata": {},
   "outputs": [
    {
     "name": "stdout",
     "output_type": "stream",
     "text": [
      "dict_keys(['val_loss', 'loss'])\n"
     ]
    },
    {
     "data": {
      "text/plain": [
       "<matplotlib.legend.Legend at 0x7fba804fb860>"
      ]
     },
     "execution_count": 12,
     "metadata": {},
     "output_type": "execute_result"
    },
    {
     "data": {
      "image/png": "[encoded data removed]",
      "text/plain": [
       "<Figure size 432x288 with 1 Axes>"
      ]
     },
     "metadata": {
      "needs_background": "light"
     },
     "output_type": "display_data"
    }
   ],
   "source": [
    "print(epochs_hist.history.keys())\n",
    "plt.plot(epochs_hist.history['loss'])\n",
    "plt.plot(epochs_hist.history['val_loss'])\n",
    "\n",
    "plt.title('Model Loss Progression During Training/Validation')\n",
    "plt.ylabel('Training and Validation Losses')\n",
    "plt.xlabel('Epoch Number')\n",
    "plt.legend(['Training Loss', 'Validation Loss'])\n",
    "\n",
    "\n"
   ]
  },
  {
   "cell_type": "markdown",
   "metadata": {},
   "source": [
    "**Prediction**"
   ]
  },
  {
   "cell_type": "code",
   "execution_count": 15,
   "metadata": {},
   "outputs": [],
   "source": [
    "\n",
    "y_predict_sample = model.predict(X_test)\n",
    "\n",
    "print('Expected measure of BMI=', y_predict_sample)\n",
    "y_predict_sample_original = scaler_y.inverse_transform(y_predict_sample)\n",
    "print('Expected measure of BMI=', y_predict_sample_original)\n"
   ]
  },
  {
   "cell_type": "code",
   "execution_count": 14,
   "metadata": {},
   "outputs": [
    {
     "data": {
      "text/plain": [
       "0.10627072087221504"
      ]
     },
     "execution_count": 14,
     "metadata": {},
     "output_type": "execute_result"
    }
   ],
   "source": [
    "#Evaluating our model using RMSE\n",
    "rms = np.sqrt(mean_squared_error(y_predict_sample, y_test))\n",
    "rms"
   ]
  },
  {
   "cell_type": "code",
   "execution_count": null,
   "metadata": {},
   "outputs": [],
   "source": []
  }
 ],
 "metadata": {
  "kernelspec": {
   "display_name": "Python 3",
   "language": "python",
   "name": "python3"
  },
  "language_info": {
   "codemirror_mode": {
    "name": "ipython",
    "version": 3
   },
   "file_extension": ".py",
   "mimetype": "text/x-python",
   "name": "python",
   "nbconvert_exporter": "python",
   "pygments_lexer": "ipython3",
   "version": "3.7.3"
  }
 },
 "nbformat": 4,
 "nbformat_minor": 2
}
